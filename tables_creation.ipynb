{
 "cells": [
  {
   "cell_type": "code",
   "execution_count": 1,
   "metadata": {},
   "outputs": [],
   "source": [
    "import pandas as pd\n",
    "import warnings\n",
    "\n",
    "# Suppress all warnings\n",
    "warnings.filterwarnings(\"ignore\")\n",
    "#pd.set_option('display.max_rows', None)\n",
    "\n",
    "# Load the Excel file to examine its structure and content\n",
    "file_path = \"C:\\\\Users\\\\arcan\\\\OneDrive\\\\Ambiente de Trabalho\\\\My apps\\\\python\\\\database project\\\\Billionaires.xlsx\"\n",
    "excel_data = pd.ExcelFile(file_path)\n",
    "# Load the content of the 'Billionaires' sheet to understand its structure\n",
    "billionaires_data = excel_data.parse('Billionaires')\n",
    "versatyle_dictionary = {}\n",
    "versatyle_counter = 1"
   ]
  },
  {
   "cell_type": "code",
   "execution_count": 2,
   "metadata": {},
   "outputs": [],
   "source": [
    "# Prepare the Continents table\n",
    "continents = billionaires_data[['continent']].drop_duplicates()\n",
    "\n",
    "continents['continent_id'] = range(1, len(continents) + 1)\n",
    "\n",
    "continents_final = continents[['continent_id', 'continent']]"
   ]
  },
  {
   "cell_type": "code",
   "execution_count": 3,
   "metadata": {},
   "outputs": [],
   "source": [
    "# Prepare the countries table\n",
    "countries = billionaires_data[['country_of_residence', 'continent', 'country_lat', \n",
    "                               'country_long', 'country_pop', 'life_expectancy', 'cpi_country', 'cpi_change_country', 'g_tertiary_ed_enroll', 'g_primary_ed_enroll', \n",
    "                               'tax_revenue', 'tax_rate', 'gdp_country']].drop_duplicates()\n",
    "\n",
    "countries = countries.merge(continents_final[['continent_id', 'continent']], on='continent', how='left')\n",
    "countries['country_id'] = range(1, len(countries) + 1)\n",
    "\n",
    "countries_final = countries[['country_id', 'country_of_residence', 'continent_id', 'country_lat', \n",
    "                               'country_long', 'country_pop', 'life_expectancy', 'cpi_country', 'cpi_change_country', 'gdp_country', 'g_tertiary_ed_enroll', 'g_primary_ed_enroll', \n",
    "                               'tax_revenue', 'tax_rate']]\n",
    "\n",
    "countries_final.rename(columns={\"country_lat\": \"country_latitude\"}, inplace=True)\n",
    "countries_final.rename(columns={\"country_long\": \"country_longitude\"}, inplace=True)\n",
    "countries_final.rename(columns={\"life_expectancy\": \"life_exp\"}, inplace=True)\n",
    "countries_final.rename(columns={\"cpi_change_country\": \"cpi_change\"}, inplace=True)\n",
    "countries_final.rename(columns={\"g_tertiary_ed_enroll\": \"g_tertiary\"}, inplace=True)\n",
    "countries_final.rename(columns={\"g_primary_ed_enroll\": \"g_primary\"}, inplace=True)"
   ]
  },
  {
   "cell_type": "code",
   "execution_count": 4,
   "metadata": {},
   "outputs": [],
   "source": [
    "# Prepare the companies table\n",
    "companies = billionaires_data[['source', 'industry']].drop_duplicates()\n",
    "\n",
    "companies['company_id'] = range(1, len(companies) + 1)\n",
    "\n",
    "companies_final = companies[['company_id', 'source', 'industry']]\n",
    "companies_final.rename(columns={'source': 'resource'}, inplace=True)"
   ]
  },
  {
   "cell_type": "code",
   "execution_count": 5,
   "metadata": {},
   "outputs": [],
   "source": [
    "#Preprare the regions table\n",
    "regions = billionaires_data[['residence_region']].drop_duplicates()\n",
    "\n",
    "regions['region_id'] = range(1, len(regions) + 1)\n",
    "\n",
    "regions_final = regions[['region_id', 'residence_region']]\n",
    "\n",
    "regions_final.rename(columns={\"residence_region\": \"res_region\"}, inplace=True)"
   ]
  },
  {
   "cell_type": "code",
   "execution_count": 6,
   "metadata": {},
   "outputs": [],
   "source": [
    "# Prepare the states table\n",
    "states = billionaires_data[['residence_state','residence_region','country_of_residence']].drop_duplicates(['residence_state'])\n",
    "states.rename(columns={\"residence_region\": \"res_region\"}, inplace=True)\n",
    "\n",
    "states = states.merge(regions_final[['region_id', 'res_region']], on='res_region', how='left')\n",
    "states = states.merge(countries_final[['country_id', 'country_of_residence']], on='country_of_residence', how='left')\n",
    "\n",
    "states['state_id'] = range(1, len(states) + 1)\n",
    "\n",
    "states_final = states[['state_id', 'residence_state', 'region_id', 'country_id']]\n",
    "\n",
    "states_final.rename(columns={\"residence_state\": \"res_state\"}, inplace=True)"
   ]
  },
  {
   "cell_type": "code",
   "execution_count": 7,
   "metadata": {},
   "outputs": [],
   "source": [
    "# Prepare the cities table\n",
    "cities = billionaires_data[['city_of_residence', 'residence_state', 'residence_region', 'country_of_residence']].drop_duplicates(['city_of_residence', 'residence_state', 'country_of_residence'])\n",
    "cities = cities.merge(countries_final[['country_of_residence', 'country_id']], on='country_of_residence', how='left')\n",
    "cities.rename(columns={\"residence_state\": \"res_state\"}, inplace=True)\n",
    "cities = cities.merge(states_final[['res_state', 'state_id']], on='res_state', how='left')\n",
    "cities['city_id'] = range(1, len(cities) + 1)\n",
    "\n",
    "cities_final = cities[['city_id', 'city_of_residence', 'state_id', 'country_id']]"
   ]
  },
  {
   "cell_type": "code",
   "execution_count": 8,
   "metadata": {},
   "outputs": [],
   "source": [
    "# Prepare the billionaires table\n",
    "billionaires = billionaires_data[['first_name','last_name', 'full_name', 'age', 'gender', 'birth_date', 'birth_day', 'birth_month', 'birth_year', 'position', 'wealth', 'city_of_residence', 'residence_state', 'citizenship', 'residence_region', 'country_of_residence']]\n",
    "billionaires.rename(columns={\"residence_region\": \"res_region\"}, inplace=True)\n",
    "billionaires.rename(columns={\"residence_state\": \"res_state\"}, inplace=True)\n",
    "billionaires = billionaires.merge(cities[['city_of_residence', 'res_state', 'country_of_residence', 'city_id']], on=['city_of_residence', 'res_state', 'country_of_residence',], how='left')\n",
    "billionaires = billionaires.merge(countries_final[['country_of_residence', 'country_id']], on='country_of_residence', how='left')\n",
    "billionaires['billionaire_id'] = range(1, len(billionaires) + 1)\n",
    "\n",
    "billionaires_final = billionaires[['billionaire_id','first_name','last_name', 'full_name', 'age', 'gender', 'birth_date', 'birth_day', 'birth_month', 'birth_year', 'position', 'wealth', 'citizenship', 'city_id','country_id']]\n",
    "\n",
    "billionaires_final.rename(columns={\"first_name\": \"firstname\"}, inplace=True)\n",
    "billionaires_final.rename(columns={\"last_name\": \"lastname\"}, inplace=True)\n",
    "billionaires_final.rename(columns={\"full_name\": \"fullname\"}, inplace=True)"
   ]
  },
  {
   "cell_type": "code",
   "execution_count": 9,
   "metadata": {},
   "outputs": [],
   "source": [
    "# Prepare the Billionaire_Companies table\n",
    "billionaire_companies = billionaires_data[['full_name','gender', 'age', 'source', 'industry']]\n",
    "billionaire_companies.rename(columns={\"full_name\": \"fullname\"}, inplace=True)\n",
    "billionaire_companies.rename(columns={\"source\": \"resource\"}, inplace=True)\n",
    "\n",
    "billionaire_companies = billionaire_companies.merge(billionaires_final[['fullname', 'gender', 'age', 'billionaire_id']], on=['fullname', 'gender', 'age'], how='left')\n",
    "billionaire_companies = billionaire_companies.merge(companies_final[['resource', 'industry', 'company_id']], on=['resource', 'industry'], how='left')\n",
    "\n",
    "billionaire_companies_final = billionaire_companies[['billionaire_id', 'company_id']]"
   ]
  },
  {
   "cell_type": "code",
   "execution_count": 11,
   "metadata": {},
   "outputs": [
    {
     "name": "stdout",
     "output_type": "stream",
     "text": [
      "Data inserted successfully into Countries table.\n",
      "Data inserted successfully into Cities table.\n",
      "Data inserted successfully into Billionaires table.\n",
      "Data inserted successfully into Companies table.\n",
      "Data inserted successfully into Billionaire_Companies table.\n",
      "Data inserted successfully into States table.\n",
      "Data inserted successfully into Regions table.\n",
      "Data inserted successfully into Continents table.\n"
     ]
    }
   ],
   "source": [
    "import sqlite3\n",
    "\n",
    "# Paths to your database file and pandas DataFrames\n",
    "db_path = \"C:\\\\Users\\\\arcan\\\\OneDrive\\\\Ambiente de Trabalho\\\\My apps\\\\python\\\\database project\\\\Billionaires.db\" \n",
    "\n",
    "# DataFrames to insert\n",
    "dataframes = {\n",
    "    \"Countries\": countries_final,\n",
    "    \"Cities\": cities_final,\n",
    "    \"Billionaires\": billionaires_final,\n",
    "    \"Companies\": companies_final,\n",
    "    \"Billionaire_Companies\": billionaire_companies_final,\n",
    "    \"States\": states_final,\n",
    "    \"Regions\": regions_final,\n",
    "    \"Continents\": continents_final\n",
    "}\n",
    "\n",
    "# Connect to the SQLite database\n",
    "conn = sqlite3.connect(db_path)\n",
    "\n",
    "cursor = conn.cursor()\n",
    "for key in dataframes.keys():\n",
    "    delete_query = f\"DELETE FROM {key};\"\n",
    "    cursor.execute(delete_query)\n",
    "conn.commit()\n",
    "\n",
    "# Insert data into the database\n",
    "for table_name, dataframe in dataframes.items():\n",
    "    dataframe.to_sql(table_name, conn, if_exists='append', index=False)\n",
    "    print(f\"Data inserted successfully into {table_name} table.\")\n",
    "\n",
    "conn.commit()  # Commit the changes\n",
    "conn.close()   # Close the database connection"
   ]
  }
 ],
 "metadata": {
  "kernelspec": {
   "display_name": "Python 3",
   "language": "python",
   "name": "python3"
  },
  "language_info": {
   "codemirror_mode": {
    "name": "ipython",
    "version": 3
   },
   "file_extension": ".py",
   "mimetype": "text/x-python",
   "name": "python",
   "nbconvert_exporter": "python",
   "pygments_lexer": "ipython3",
   "version": "3.12.0"
  }
 },
 "nbformat": 4,
 "nbformat_minor": 2
}
